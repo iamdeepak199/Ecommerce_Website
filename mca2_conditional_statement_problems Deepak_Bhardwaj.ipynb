{
 "cells": [
  {
   "cell_type": "code",
   "execution_count": null,
   "id": "28f2c686",
   "metadata": {},
   "outputs": [],
   "source": [
    "a,b,c=10,0,-1\n",
    "d= a or b and c\n",
    "print(d)"
   ]
  },
  {
   "cell_type": "code",
   "execution_count": null,
   "id": "e2255fae",
   "metadata": {},
   "outputs": [],
   "source": [
    "i, j, k = 4, -1, 0\n",
    "w = i or j or k  \n",
    "x = i and j and k \n",
    "y = i or j and k  \n",
    "z = i and j or k  \n",
    "print(w, x, y, z) "
   ]
  },
  {
   "cell_type": "code",
   "execution_count": null,
   "id": "2fc72ed2",
   "metadata": {},
   "outputs": [],
   "source": [
    "n=int(input(\"enter any postive number\")) \n",
    "print(\"power of 2=\",2<<(n-1))"
   ]
  },
  {
   "cell_type": "code",
   "execution_count": null,
   "id": "8f319cdf",
   "metadata": {},
   "outputs": [],
   "source": [
    "a=10\n",
    "if a%2==0\n",
    "    print(\"even\")\n",
    "else:\n",
    "    print(\"odd\")\n",
    "    "
   ]
  },
  {
   "cell_type": "code",
   "execution_count": null,
   "id": "a44b6536",
   "metadata": {},
   "outputs": [],
   "source": [
    "num = 30\n",
    "k = 100 if num <= 10 else 500\n",
    "print(k)"
   ]
  },
  {
   "cell_type": "code",
   "execution_count": null,
   "id": "9bf2eeaa",
   "metadata": {},
   "outputs": [],
   "source": [
    "a = 0\n",
    "b = 60\n",
    "if a and b > 20:\n",
    "    print('Hello')\n",
    "else:\n",
    "    print('Hi')"
   ]
  },
  {
   "cell_type": "code",
   "execution_count": null,
   "id": "74f43916",
   "metadata": {},
   "outputs": [],
   "source": [
    "a = 10\n",
    "if a == 30 or 40 or 60 :\n",
    "    print('Hello')\n",
    "else :\n",
    "    print('Hi')"
   ]
  },
  {
   "cell_type": "code",
   "execution_count": null,
   "id": "72005bf6",
   "metadata": {},
   "outputs": [],
   "source": [
    "a = 10\n",
    "if any((a>30, a==10, a<50)) :\n",
    "    print('Hello')\n",
    "else :\n",
    "    print('Hi')"
   ]
  },
  {
   "cell_type": "code",
   "execution_count": null,
   "id": "45dfd304",
   "metadata": {},
   "outputs": [],
   "source": [
    "a = 40\n",
    "if a in (30, 40, 50) :\n",
    "    print('Hello')\n",
    "else :\n",
    "    print('Hi')"
   ]
  },
  {
   "cell_type": "code",
   "execution_count": null,
   "id": "43ee53fe",
   "metadata": {},
   "outputs": [],
   "source": [
    "x = 10 ; y = 15\n",
    "print(\"hey students\",end=\"\\r\")\n",
    "if x % 2 == y % 3:\n",
    "    print('true\\n')\n",
    "else:\n",
    "    print('false')"
   ]
  },
  {
   "cell_type": "code",
   "execution_count": null,
   "id": "cf61db83",
   "metadata": {},
   "outputs": [],
   "source": [
    "#concept of if else\n",
    "\n",
    "a=int(input(\"enter any positive no:-\"))\n",
    "if a>=18:\n",
    "    print(\"eligilable\")\n",
    "    n=input(\"enter your name\")\n",
    "else:\n",
    "    print(\"not eligilable\")"
   ]
  },
  {
   "cell_type": "code",
   "execution_count": null,
   "id": "84bfdfb2",
   "metadata": {},
   "outputs": [],
   "source": [
    "#concept of if elif\n",
    "num=eval(input(\"enter a number\"))\n",
    "if num>0:\n",
    "    print(\"Number is positive\")\n",
    "elif num==0:\n",
    "    print(\"Number is zero\")\n",
    "else:\n",
    "    print(\"Number is negative\")\n"
   ]
  },
  {
   "cell_type": "code",
   "execution_count": null,
   "id": "e52d7294",
   "metadata": {},
   "outputs": [],
   "source": [
    "#concept of conditional operator\n",
    "a,b,c=input(\"enter three numbers\").split()\n",
    "a,b,c=int(a),int(b),int(c)\n",
    "if a!=b and a!=c:\n",
    "    if a>b and a>c:\n",
    "        print(\"a is largest\")\n",
    "    elif b>c:\n",
    "         print(f\"{b} b is largest\")\n",
    "    else:\n",
    "        print(f\"{c} is largest\")\n",
    "else:\n",
    "    print(\"number are equal\")\n"
   ]
  },
  {
   "cell_type": "code",
   "execution_count": 5,
   "id": "6b4896bd",
   "metadata": {},
   "outputs": [
    {
     "name": "stdout",
     "output_type": "stream",
     "text": [
      "enter three numbers5 9 8\n",
      "9\n"
     ]
    }
   ],
   "source": [
    "#concept of all()\n",
    "a,b,c=input(\"enter three numbers\").split()\n",
    "a,b,c=int(a),int(b),int(c)\n",
    "d=all((a!=b,a!=c))\n",
    "if d:\n",
    "    e=a if (a>b and a>c) else b if b>c else c\n",
    "    print(e)\n",
    "else:\n",
    "    print(\"number are equal\")"
   ]
  },
  {
   "cell_type": "code",
   "execution_count": 3,
   "id": "1e18ad7e",
   "metadata": {},
   "outputs": [
    {
     "name": "stdout",
     "output_type": "stream",
     "text": [
      "enter three numbers4 8 9\n",
      "9\n"
     ]
    }
   ],
   "source": [
    "#concept of any()\n",
    "a,b,c=input(\"enter three numbers\").split()\n",
    "a,b,c=int(a),int(b),int(c)\n",
    "d=any((a!=b,a!=c))\n",
    "if d:\n",
    "    e=a if (a>b and a>c) else b if b>c else c\n",
    "    print(e)\n",
    "else:\n",
    "    print(\"number are equal\")"
   ]
  },
  {
   "cell_type": "code",
   "execution_count": null,
   "id": "d3b46592",
   "metadata": {},
   "outputs": [],
   "source": [
    "#find out number is odd or even\n",
    "a=eval(input(\"enter a number\"))\n",
    "if(a%2==0):\n",
    "    print(\"number is even\")\n",
    "else:\n",
    "    print(\"number is odd\")\n",
    "    \n",
    "\n"
   ]
  },
  {
   "cell_type": "code",
   "execution_count": null,
   "id": "0e708cb7",
   "metadata": {},
   "outputs": [],
   "source": [
    "#WAP to multiply by 2 upto nth sequence without using * operator\n",
    "a=eval(input(\"enter nth number\"))\n",
    "b=a<<1\n",
    "print(b)\n"
   ]
  },
  {
   "cell_type": "code",
   "execution_count": null,
   "id": "10281210",
   "metadata": {},
   "outputs": [],
   "source": [
    "#WAP to divide a particular number by 2 without using division operator\n",
    "a=eval(input(\"enter nth number\"))\n",
    "b=a>>1\n",
    "print(b)"
   ]
  },
  {
   "cell_type": "code",
   "execution_count": null,
   "id": "bd7f6748",
   "metadata": {},
   "outputs": [],
   "source": [
    "#find out greatest number in three numbers without using logical operator\n",
    "a,b,c=input(\"enter three numbers\").split()\n",
    "a,b,c=int(a),int(b),int(c)\n",
    "d=a if (a>b and a>c)else b if b>c else c\n",
    "print(f\"{d} is greatest\")"
   ]
  },
  {
   "cell_type": "code",
   "execution_count": null,
   "id": "b7312464",
   "metadata": {},
   "outputs": [],
   "source": [
    "#find out greatest number in three numbers using logical operator\n",
    "a,b,c=input(\"enter three numbers\").split()\n",
    "a,b,c=int(a),int(b),int(c)\n",
    "if a!=b and a!=c:\n",
    "    if a>b and a>c:\n",
    "        print(\"a is largest\")\n",
    "    elif b>c:\n",
    "         print(f\"{b} b is largest\")\n",
    "    else:\n",
    "        print(f\"{c} is largest\")\n",
    "else:\n",
    "    print(\"number are equal\")"
   ]
  },
  {
   "cell_type": "code",
   "execution_count": null,
   "id": "1e4bf919",
   "metadata": {},
   "outputs": [],
   "source": [
    "#find out greatest number in three numbers using conditional operator\n",
    "a=10\n",
    "b=20\n",
    "c=30\n",
    "largest=0\n",
    "if a>b and a>c:\n",
    "    largest=a\n",
    "if b>a and b>c:\n",
    "    largest=b\n",
    "if c>a and c>b:\n",
    "    largest=c\n",
    "    print(largest,\"is the largest of three numbers.\")"
   ]
  },
  {
   "cell_type": "code",
   "execution_count": null,
   "id": "c1514c60",
   "metadata": {},
   "outputs": [],
   "source": [
    "#find out greatest number in three numbers using all()\n",
    "a,b,c=(input(\"enter a three number\"))\n",
    "a,b,c=int(a),int(b),int(c)\n",
    "d=all(a!=b,a!=c)\n",
    "if d:\n",
    "    e=a if (a>b and a>c) else b if b>c else c\n",
    "    print(e)\n",
    "else:\n",
    "    print(\"number are equal\")"
   ]
  },
  {
   "cell_type": "code",
   "execution_count": null,
   "id": "bbecea17",
   "metadata": {},
   "outputs": [],
   "source": [
    "#Accept a non-zero integer as input. Print positive if it is greater than zero and negative if it is less than zero.\n",
    "num=eval(input(\"enter a number\"))\n",
    "if num>0:\n",
    "    print(\"Number is positive\")\n",
    "elif num==0:\n",
    "    print(\"Number is zero\")\n",
    "else:\n",
    "    print(\"Number is negative\")"
   ]
  },
  {
   "cell_type": "code",
   "execution_count": null,
   "id": "25e0d6c9",
   "metadata": {},
   "outputs": [],
   "source": [
    "\"\"\" a discount of 10% is offered if the quantity purchased is more than 1000. \n",
    "If quantity and price per item are input through the keyboard, write a program to \n",
    "calculate the total expenses\"\"\"\n",
    "quality=int(input(\"enter quality\"))\n",
    "price=int(input(\"enter price of product\"))\n",
    "amount=price*quality\n",
    "if amount>1000:\n",
    "    discount=10/100\n",
    "    net_amount=amount-discount\n",
    "    print(\"bill amount\",amount)\n",
    "    print(\"discount\",discount)\n",
    "    print(\"your net bill amountis\",net_amount)"
   ]
  },
  {
   "cell_type": "code",
   "execution_count": 1,
   "id": "ff3f2b94",
   "metadata": {},
   "outputs": [
    {
     "name": "stdout",
     "output_type": "stream",
     "text": [
      "\n",
      "Please Entered Basic Salary (In Rs.)41000\n",
      "\n",
      "Basic Salary = Rs 41000\n",
      "HRA  = Rs 500\n",
      "DA  = Rs 40180.0\n",
      "Gross salary = Rs 81680.0\n"
     ]
    }
   ],
   "source": [
    "\"\"\"In a company an employee is paid as under:\n",
    "If his basic salary is less than Rs. 1500, then HRA = 10% of basic salary\n",
    "and DA = 90% of basic salary. If his salary is either equal to or above Rs.\n",
    "1500, then HRA = Rs. 500 and DA = 98% of basic salary. If the employee's\n",
    "salary is input through the keyboard write a program to find his gross\n",
    "salary.\"\"\"\n",
    "basic_salary =eval(input(\"\\nPlease Entered Basic Salary (In Rs.)\"))\n",
    "if basic_salary < 30000:\n",
    "    hra = basic_salary * (10 / 100)\n",
    "    da = basic_salary * 90 / 100;\n",
    "\n",
    "else:\n",
    "    hra = 500;\n",
    "    da = basic_salary * 98 / 100;\n",
    "\n",
    "gross_salary = basic_salary + hra + da\n",
    "print(\"\\nBasic Salary = Rs \"+str(basic_salary))\n",
    "print(\"HRA  = Rs \"+ str(hra))\n",
    "print(\"DA  = Rs \"+str(da))\n",
    "print(\"Gross salary = Rs \"+str(gross_salary))"
   ]
  },
  {
   "cell_type": "code",
   "execution_count": null,
   "id": "4046a0f2",
   "metadata": {},
   "outputs": [],
   "source": [
    "\"\"\"Percentage marks obtained by a student are input through the keyboard. \n",
    "The student gets a division as per the following rules:\n",
    "Percentage above or equal to 60 - First division\n",
    "Percentage between 50 and 59 - Second division\n",
    "Percentage between 40 and 49 - Third division\n",
    "Percentage less than 40 - Fail\n",
    "Write a program to calculate the division obtained by the student.\"\"\"\n",
    "a=int(input(\"enter 5 subject no\"))\n",
    "b=int(input(\"enter 5 subject no\"))\n",
    "c=int(input(\"enter 5 subject no\"))\n",
    "d=int(input(\"enter 5 subject no\"))\n",
    "e=int(input(\"enter 5 subject no\"))\n",
    "s=a+b+c+d+e\n",
    "avg=s/5\n",
    "print(avg)\n",
    "if(avg>=75):\n",
    "    print(\"First\")\n",
    "elif(avg>=45):\n",
    "    print(\"second\")\n",
    "elif(avg>=33):\n",
    "    print(\"Third\")\n",
    "elif(avg>=30):\n",
    "    print(\"pass\")\n",
    "else:\n",
    "    print(\"Fail\")\n",
    "    \n",
    "\n"
   ]
  },
  {
   "cell_type": "code",
   "execution_count": null,
   "id": "4aea4031",
   "metadata": {},
   "outputs": [],
   "source": [
    "\"\"\"A company insures its drivers in the following cases:\n",
    "If the driver is married.\n",
    "If the driver is unmarried, male & above 30 years of age.\n",
    "If the driver is unmarried, female & above 25 years of age\n",
    "In all other cases, the driver is not insured. If the marital status, sex and\n",
    "age of the driver are the inputs, write a program to determine whether\n",
    "the driver should be insured or not.\"\"\"\n",
    "a = str(input(\"Enter your marital status (Married/Unmarried): \"))\n",
    "b = str(input(\"Enter your sex (Male/Female): \"))\n",
    "c = int(input(\"Enter your age: \"))\n",
    "if a == 'Married':\n",
    "    print(\"Driver is insured\")\n",
    "elif a == 'Unmarried' and b == 'Male' and c > 30:\n",
    "    print(\"Driver is insured\")\n",
    "elif a == 'Unmarried' and b == 'Female' and c > 25:\n",
    "    print(\"Driver is insured\")\n",
    "else:\n",
    "    print(\"Driver is not insured\")"
   ]
  },
  {
   "cell_type": "code",
   "execution_count": 8,
   "id": "a9be3999",
   "metadata": {},
   "outputs": [
    {
     "name": "stdout",
     "output_type": "stream",
     "text": [
      "enter a no:-4 2 3 4\n",
      "true\n"
     ]
    }
   ],
   "source": [
    "#Suppose there are four flag variables w, x, y, z. \n",
    "# Write a program to check in multiple ways whether one of them is true.\n",
    "w,x,y,z=input(\"enter a no:-\").split()\n",
    "w,x,y,z=bool(w),bool(x),bool(y),bool(z)\n",
    "if(w==True or x==True or y==True or z==True):\n",
    "    print(\"true\")\n",
    "else:\n",
    "    print(\"False\")\n",
    "    "
   ]
  },
  {
   "cell_type": "code",
   "execution_count": 10,
   "id": "9219e623",
   "metadata": {},
   "outputs": [
    {
     "name": "stdout",
     "output_type": "stream",
     "text": [
      "enter nth no:-2\n",
      "4\n",
      "True\n"
     ]
    }
   ],
   "source": [
    "#Given a number n we wish to do the following:\n",
    "#If n is positive - print n * n, set a flag to true\n",
    "#If n is negative - print n * n * n, set a flag to true\n",
    "#if n is 0 - do nothing\n",
    "a=eval(input(\"enter nth no:-\"))\n",
    "if(a>0):\n",
    "    d=a*a\n",
    "    print(d)\n",
    "    flag=True\n",
    "    print(flag)\n",
    "elif(a==0):\n",
    "    print(\"Do nothing\")\n",
    "else:\n",
    "    d=a*a*a\n",
    "    print(d)\n",
    "    flag=False\n",
    "    print(flag)\n",
    "    "
   ]
  },
  {
   "cell_type": "code",
   "execution_count": 9,
   "id": "6faf8ce2",
   "metadata": {},
   "outputs": [
    {
     "name": "stdout",
     "output_type": "stream",
     "text": [
      "enter three numbers8 9 11\n",
      "11 is largest\n"
     ]
    }
   ],
   "source": [
    "#Write a python program to find largest of three numbers \n",
    "a,b,c=input(\"enter three numbers\").split()\n",
    "a,b,c=int(a),int(b),int(c)\n",
    "if a!=b and a!=c:\n",
    "    if a>b and a>c:\n",
    "        print(\"a is largest\")\n",
    "    elif b>c:\n",
    "         print(f\"{b} b is largest\")\n",
    "    else:\n",
    "        print(f\"{c} is largest\")\n",
    "else:\n",
    "    print(\"number are equal\")"
   ]
  },
  {
   "cell_type": "code",
   "execution_count": 11,
   "id": "02a63c97",
   "metadata": {},
   "outputs": [
    {
     "name": "stdout",
     "output_type": "stream",
     "text": [
      "enter no:-143\n",
      "sentwitch no\n"
     ]
    }
   ],
   "source": [
    "#A three digit number is called a sandwich number if the sum of its first and last digits is equal to its middle digit. Accept a three digit number as input and print sandwich if the number is a sandwich number.\n",
    "#Print plain if the number is not a sandwich number. 143 is a sandwich number and 123 is a plain\n",
    "a=list(map(int, input(\"enter no:-\")))\n",
    "if (int(a[1])==int(a[0])+int(a[2])):\n",
    "    print(\"sentwitch no\")\n",
    "else:\n",
    "    print(\"plain\")\n"
   ]
  },
  {
   "cell_type": "code",
   "execution_count": null,
   "id": "d6b5da34",
   "metadata": {},
   "outputs": [],
   "source": []
  },
  {
   "cell_type": "code",
   "execution_count": null,
   "id": "d2899ac9",
   "metadata": {},
   "outputs": [],
   "source": []
  },
  {
   "cell_type": "code",
   "execution_count": null,
   "id": "1d885b21",
   "metadata": {},
   "outputs": [],
   "source": []
  }
 ],
 "metadata": {
  "kernelspec": {
   "display_name": "Python 3 (ipykernel)",
   "language": "python",
   "name": "python3"
  },
  "language_info": {
   "codemirror_mode": {
    "name": "ipython",
    "version": 3
   },
   "file_extension": ".py",
   "mimetype": "text/x-python",
   "name": "python",
   "nbconvert_exporter": "python",
   "pygments_lexer": "ipython3",
   "version": "3.9.7"
  }
 },
 "nbformat": 4,
 "nbformat_minor": 5
}
